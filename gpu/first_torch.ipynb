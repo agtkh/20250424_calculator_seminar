{
 "cells": [
  {
   "cell_type": "markdown",
   "id": "49930148-cf88-4917-9993-470c016d0440",
   "metadata": {},
   "source": [
    "# PyTorchとGPUを使った手書き数字認識\n",
    "Created: 2025.4.24 阿形航平"
   ]
  },
  {
   "cell_type": "code",
   "execution_count": null,
   "id": "f4849570-6913-4052-a553-8c0adf97fb20",
   "metadata": {},
   "outputs": [],
   "source": [
    "# モジュールのインポート\n",
    "import torch\n",
    "import torch.nn as nn\n",
    "import torch.nn.functional as F\n",
    "import torch.optim as optim\n",
    "import torchvision\n",
    "import torchvision.transforms as transforms\n",
    "import matplotlib.pyplot as plt\n",
    "import time"
   ]
  },
  {
   "cell_type": "code",
   "execution_count": null,
   "id": "b86b7d70-e173-4ff8-84b0-30713a511d37",
   "metadata": {},
   "outputs": [],
   "source": [
    "# CUDA (GPU)が利用できるか確認\n",
    "\n",
    "is_cuda_available = torch.cuda.is_available()\n",
    "print(f\"is_cuda_available: {is_cuda_available}\")"
   ]
  },
  {
   "cell_type": "code",
   "execution_count": null,
   "id": "b798a455-5d05-4670-b4f6-586fa6d9154d",
   "metadata": {},
   "outputs": [],
   "source": [
    "# データローダの準備\n",
    "\n",
    "# transformの用意\n",
    "transform = transforms.ToTensor()\n",
    "\n",
    "# 訓練データ\n",
    "train_dataset = torchvision.datasets.MNIST(root='./data',\n",
    "                                           train=True,\n",
    "                                           transform=transform,\n",
    "                                           download = True)\n",
    "# テストデータ\n",
    "test_dataset = torchvision.datasets.MNIST(root='./data',\n",
    "                                           train=False,\n",
    "                                           transform=transform,\n",
    "                                           download = True)\n",
    "\n",
    "# Batch読み込みの準備\n",
    "batch_size = 256\n",
    "train_loader = torch.utils.data.DataLoader(dataset=train_dataset,\n",
    "                                           batch_size=batch_size,\n",
    "                                           shuffle=True)\n",
    "test_loader = torch.utils.data.DataLoader(dataset=test_dataset,\n",
    "                                           batch_size=batch_size,\n",
    "                                           shuffle=True)"
   ]
  },
  {
   "cell_type": "code",
   "execution_count": null,
   "id": "6e42aa33-0c48-4a67-b83d-284014cc87d5",
   "metadata": {},
   "outputs": [],
   "source": [
    "# ネットワークの定義\n",
    "class MNISTModel1(nn.Module):\n",
    "    def __init__(self, input_size, hidden1_size, hidden2_size, output_size):\n",
    "        super().__init__()\n",
    "        self.input_size = input_size\n",
    "        \n",
    "        self.fc1 = nn.Linear(input_size, hidden1_size)\n",
    "        self.fc2 = nn.Linear(hidden1_size, hidden2_size) # 全結合層\n",
    "        self.fc3 = nn.Linear(hidden2_size, output_size) # 出力層\n",
    "\n",
    "    def forward(self, x: torch.Tensor):\n",
    "        tmp = x.view(-1, self.input_size)\n",
    "        tmp = self.fc1(tmp)\n",
    "        tmp = F.relu(tmp)\n",
    "        tmp = self.fc2(tmp)\n",
    "        tmp = F.relu(tmp)\n",
    "        tmp = self.fc3(tmp)\n",
    "        y = F.log_softmax(tmp, dim=1)\n",
    "        return y"
   ]
  },
  {
   "cell_type": "code",
   "execution_count": null,
   "id": "fb5016fd-7c20-49a9-887c-b324d5fe3faa",
   "metadata": {},
   "outputs": [],
   "source": [
    "# 学習のための準備\n",
    "\n",
    "# GPUデバイスの取得\n",
    "device = torch.device('cuda:0' if is_cuda_available else 'cpu')\n",
    "\n",
    "# モデルのインスタンス化\n",
    "model = MNISTModel1(28*28, 512, 256, 10).to(device)\n",
    "\n",
    "# \n",
    "criterion = nn.NLLLoss()"
   ]
  },
  {
   "cell_type": "code",
   "execution_count": null,
   "id": "e75f781d-03e6-4709-9a22-b3826591da92",
   "metadata": {},
   "outputs": [],
   "source": [
    "# 学習開始\n",
    "\n",
    "model.train()\n",
    "\n",
    "# 最適化アルゴリズムを定義\n",
    "optimizer = torch.optim.Adam(model.parameters(), lr=0.005)\n",
    "\n",
    "start_time = time.time()\n",
    "for epoch in range(10):\n",
    "    total_loss = 0\n",
    "    for images, labels in train_loader:\n",
    "        # GPUへの転送\n",
    "        images, labels = images.to(device), labels.to(device)\n",
    "        \n",
    "        # 1. 勾配リセット\n",
    "        optimizer.zero_grad()\n",
    "\n",
    "        # 2. 推論\n",
    "        outputs = model(images)\n",
    "\n",
    "        # 3. 誤差計算\n",
    "        loss = criterion(outputs, labels)\n",
    "\n",
    "        # 4. 誤差逆伝播\n",
    "        loss.backward()\n",
    "\n",
    "        # 5. パラメータ更新\n",
    "        optimizer.step()\n",
    "        \n",
    "        total_loss += loss.item()\n",
    "    \n",
    "    print(f'Epoch: {epoch + 1}, Loss: {total_loss / len(train_loader)}')\n",
    "end_time = time.time()\n",
    "duration = end_time - start_time\n",
    "print(f\"Finished training in {duration:.2f}s\")\n",
    "\n",
    "# Torch Script形式で保存\n",
    "model_scripted = torch.jit.script(model)\n",
    "model_scripted.save('model_scripted.pth')"
   ]
  },
  {
   "cell_type": "code",
   "execution_count": null,
   "id": "0b1ab247-0818-4bc7-86e3-36b47395e435",
   "metadata": {},
   "outputs": [],
   "source": [
    "# Torch Script形式で読み込み\n",
    "model = torch.jit.load('model_scripted.pth')\n",
    "\n",
    "# test\n",
    "correct = 0\n",
    "total = 0\n",
    "model.eval()\n",
    "with torch.no_grad(): # 勾配を計算なし\n",
    "    for images, labels in test_loader:\n",
    "        # GPUへの転送\n",
    "        images, labels = images.to(device), labels.to(device)\n",
    "        \n",
    "        # \n",
    "        outputs = model(images)\n",
    "\n",
    "        # \n",
    "        _, predicted = torch.max(outputs.data, 1)\n",
    "        \n",
    "        total += labels.size(0)\n",
    "        correct += (predicted == labels).sum().item()\n",
    "accuracy = correct / total\n",
    "print(f\"{total=}, {correct=}, {accuracy=}\")"
   ]
  },
  {
   "cell_type": "code",
   "execution_count": null,
   "id": "a6a1462e-2350-4a66-af60-4bd8d7666400",
   "metadata": {},
   "outputs": [],
   "source": []
  }
 ],
 "metadata": {
  "kernelspec": {
   "display_name": "Python 3 (ipykernel)",
   "language": "python",
   "name": "python3"
  },
  "language_info": {
   "codemirror_mode": {
    "name": "ipython",
    "version": 3
   },
   "file_extension": ".py",
   "mimetype": "text/x-python",
   "name": "python",
   "nbconvert_exporter": "python",
   "pygments_lexer": "ipython3",
   "version": "3.10.12"
  }
 },
 "nbformat": 4,
 "nbformat_minor": 5
}
